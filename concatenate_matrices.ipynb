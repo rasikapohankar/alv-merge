{
 "cells": [
  {
   "cell_type": "code",
   "execution_count": 14,
   "metadata": {},
   "outputs": [],
   "source": [
    "import os\n",
    "import gzip\n",
    "from struct import Struct\n",
    "import pandas as pd\n",
    "import time\n",
    "\n",
    "\n",
    "matrix_path = './alevin_matrices/'\n",
    "output_path = './alevin_output/'\n",
    "\n"
   ]
  },
  {
   "cell_type": "code",
   "execution_count": 15,
   "metadata": {},
   "outputs": [],
   "source": [
    "def get_cb_count():\n",
    "    cb_count = dict()\n",
    "    for dir_name in os.listdir(matrix_path):\n",
    "        if dir_name[0] != '.':\n",
    "            f = open(matrix_path + dir_name + \"/\"+dir_name+'_rows.txt', 'r')\n",
    "            for line in f:\n",
    "                line = line.strip()\n",
    "                cb_count[line] = cb_count.get(line, 0)+1\n",
    "                #if line in cb_count:\n",
    "                #    cb_count[line] = cb_count[line] + 1\n",
    "                #else:\n",
    "                #    cb_count[line] = 1\n",
    "            f.close()\n",
    "    return cb_count\n",
    "\n",
    "cb_count = get_cb_count()\n"
   ]
  },
  {
   "cell_type": "code",
   "execution_count": 16,
   "metadata": {
    "scrolled": true
   },
   "outputs": [
    {
     "name": "stdout",
     "output_type": "stream",
     "text": [
      "Finished. Time:  7.781069040298462\n"
     ]
    }
   ],
   "source": [
    "from shutil import copyfileobj\n",
    "def merge():\n",
    "    start = time.time()\n",
    "    with open(output_path + 'concatenated.bin.gz', 'wb') as F1:\n",
    "        rows_file = open(output_path + 'concatenated_rows.txt', 'w')\n",
    "\n",
    "\n",
    "        for dir_name in os.listdir(matrix_path):\n",
    "            if dir_name[0] != '.':\n",
    "                \n",
    "                \"\"\"\n",
    "                gene_file = matrix_path + dir_name + \"/\"+dir_name+'_cols.txt'\n",
    "                print('gene file', gene_file)\n",
    "                gene_names = pd.read_table(gene_file, header=None)[0].values\n",
    "\n",
    "                num_genes = len(gene_names)\n",
    "                header_struct = Struct( \"d\" * num_genes)\n",
    "                \"\"\"\n",
    "                rows = open(matrix_path + dir_name + '/'+dir_name+'_rows.txt', 'r')\n",
    "                #matrix = gzip.open(matrix_path + dir_name + '/'+dir_name+'.gz', 'r')\n",
    "                with open(matrix_path + dir_name + '/'+dir_name+'.gz', 'rb') as F2:\n",
    "                      copyfileobj(F2, F1)\n",
    "\n",
    "                for cb in rows:\n",
    "                    ## Current Version : no decompression just concatenate all matrices \n",
    "                    \"\"\"\n",
    "                    count += 1\n",
    "                    try:\n",
    "                        cell_values = header_struct.unpack_from(matrix.read(header_struct.size))\n",
    "                    except:\n",
    "                        print('counted: ', count)\n",
    "                        print('Error in unpack')\n",
    "                        break\n",
    "                    #print(cell_values)\n",
    "                    \"\"\"\n",
    "                    cb = cb.strip()\n",
    "                    if cb_count[cb] >0 and cb_count[cb] == 1:\n",
    "                        #values_file.write(header_struct.pack(*cell_values))\n",
    "                        rows_file.write(cb + '\\n')\n",
    "                    else:\n",
    "                        #common_cb[cb].append(cell_values) ## first version (182 secs)\n",
    "                        #values_file.write(str(cell_values) + '\\n')  ## second version (100 sec)\n",
    "                        #values_file.write(header_struct.pack(*cell_values)) ## third version (84. secs)\n",
    "                        rows_file.write(cb+\"_\"+str(cb_count[cb])+ '\\n')\n",
    "                        cb_count[cb] -= 1\n",
    "\n",
    "                rows.close()\n",
    "                \n",
    "\n",
    "                \n",
    "        \"\"\" ### ideally was done to keep same rows together for easier compression. \n",
    "        for key, val in common_cb.items():\n",
    "                index = 0\n",
    "                for cell_values in val:\n",
    "                    rows_file.write(key + '_' + str(index) + '\\n')\n",
    "                    values_file.write(str(cell_values) + '\\n')\n",
    "                    index += 1\n",
    "        \"\"\"\n",
    "        \n",
    "        rows_file.close()\n",
    "    end = time.time()\n",
    "    print('Finished. Time: ', end - start)\n",
    "\n",
    "merge()"
   ]
  }
 ],
 "metadata": {
  "kernelspec": {
   "display_name": "Python 3",
   "language": "python",
   "name": "python3"
  },
  "language_info": {
   "codemirror_mode": {
    "name": "ipython",
    "version": 3
   },
   "file_extension": ".py",
   "mimetype": "text/x-python",
   "name": "python",
   "nbconvert_exporter": "python",
   "pygments_lexer": "ipython3",
   "version": "3.7.0"
  }
 },
 "nbformat": 4,
 "nbformat_minor": 2
}
