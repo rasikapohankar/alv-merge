{
 "cells": [
  {
   "cell_type": "code",
   "execution_count": 1,
   "metadata": {},
   "outputs": [],
   "source": [
    "import os\n",
    "import gzip\n",
    "from struct import Struct\n",
    "import pandas as pd\n",
    "import time"
   ]
  },
  {
   "cell_type": "code",
   "execution_count": 2,
   "metadata": {},
   "outputs": [],
   "source": [
    "matrix_path = './alevin_matrices/alevin/'\n",
    "output_path = './alevin_output/'\n",
    "\n",
    "def get_cb_count():\n",
    "    cb_count = dict()\n",
    "    for dir_name in os.listdir(matrix_path):\n",
    "        if dir_name[0] != '.':\n",
    "            f = open(matrix_path + '/' + dir_name + '/quants_mat_rows.txt', 'r')\n",
    "            for line in f:\n",
    "                line = line.strip()\n",
    "                if line in cb_count:\n",
    "                    cb_count[line] = cb_count[line] + 1\n",
    "                else:\n",
    "                    cb_count[line] = 1\n",
    "            f.close()\n",
    "    return cb_count\n",
    "\n",
    "cb_count = get_cb_count()"
   ]
  },
  {
   "cell_type": "code",
   "execution_count": null,
   "metadata": {},
   "outputs": [
    {
     "name": "stdout",
     "output_type": "stream",
     "text": [
      "gene file ./alevin_matrices/alevin/mouse_2/quants_mat_cols.txt\n"
     ]
    }
   ],
   "source": [
    "def merge():\n",
    "    start = time.time()\n",
    "    values_file = open(output_path + '/concatenated.txt', 'w')\n",
    "    rows_file = open(output_path + '/concatenated_rows.txt', 'w')\n",
    "\n",
    "    common_cb = dict()\n",
    "\n",
    "    for dir_name in os.listdir(matrix_path):\n",
    "        if dir_name[0] != '.':\n",
    "\n",
    "            gene_file = matrix_path + dir_name + '/quants_mat_cols.txt'\n",
    "            print('gene file', gene_file)\n",
    "            gene_names = pd.read_table(gene_file, header=None)[0].values\n",
    "            num_genes = len(gene_names)\n",
    "            header_struct = Struct( \"d\" * num_genes)\n",
    "\n",
    "            rows = open(matrix_path + '/' + dir_name + '/quants_mat_rows.txt', 'r')\n",
    "            matrix = gzip.open(matrix_path + '/' + dir_name + '/quants_mat.gz', 'r')\n",
    "            count = 0\n",
    "            while True:\n",
    "                count += 1\n",
    "                try:\n",
    "                    cell_values = header_struct.unpack_from(matrix.read(header_struct.size))\n",
    "                except:\n",
    "                    print('counted: ', count)\n",
    "                    print('Error in unpack')\n",
    "                    break\n",
    "                cb = next(rows).strip()\n",
    "                if cb_count[cb] == 1:\n",
    "                    values_file.write(str(cell_values) + '\\n')\n",
    "                    rows_file.write(cb + '\\n')\n",
    "                else:\n",
    "                    if cb in common_cb:\n",
    "                        common_cb[cb].append(cell_values)\n",
    "                    else:\n",
    "                        common_cb[cb] = [cell_values]\n",
    "            rows.close()\n",
    "            matrix.close()\n",
    "\n",
    "    for key, val in common_cb.items():\n",
    "            index = 0\n",
    "            for cell_values in val:\n",
    "                rows_file.write(key + '_' + str(index) + '\\n')\n",
    "                values_file.write(str(cell_values) + '\\n')\n",
    "                index += 1\n",
    "\n",
    "    values_file.close()\n",
    "    rows_file.close()\n",
    "    end = time.time()\n",
    "    print('Finished. Time: ', end - start)\n",
    "    \n",
    "merge()"
   ]
  },
  {
   "cell_type": "code",
   "execution_count": null,
   "metadata": {},
   "outputs": [],
   "source": []
  },
  {
   "cell_type": "code",
   "execution_count": null,
   "metadata": {},
   "outputs": [],
   "source": []
  }
 ],
 "metadata": {
  "kernelspec": {
   "display_name": "python37",
   "language": "python",
   "name": "python37"
  },
  "language_info": {
   "codemirror_mode": {
    "name": "ipython",
    "version": 3
   },
   "file_extension": ".py",
   "mimetype": "text/x-python",
   "name": "python",
   "nbconvert_exporter": "python",
   "pygments_lexer": "ipython3",
   "version": "3.7.0"
  }
 },
 "nbformat": 4,
 "nbformat_minor": 2
}
